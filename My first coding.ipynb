{
 "cells": [
  {
   "cell_type": "code",
   "execution_count": 9,
   "id": "34a060d6",
   "metadata": {},
   "outputs": [
    {
     "data": {
      "text/plain": [
       "['orange', 'apple', 'mango']"
      ]
     },
     "execution_count": 9,
     "metadata": {},
     "output_type": "execute_result"
    }
   ],
   "source": [
    "fruits=['orange','apple','mango']\n",
    "fruits\n"
   ]
  },
  {
   "cell_type": "code",
   "execution_count": 10,
   "id": "3b8d84d1",
   "metadata": {},
   "outputs": [
    {
     "data": {
      "text/plain": [
       "'apple'"
      ]
     },
     "execution_count": 10,
     "metadata": {},
     "output_type": "execute_result"
    }
   ],
   "source": [
    "fruits[1]"
   ]
  },
  {
   "cell_type": "code",
   "execution_count": 41,
   "id": "12ba9189",
   "metadata": {
    "scrolled": true
   },
   "outputs": [
    {
     "data": {
      "text/plain": [
       "{'Abuja:18', 'Lagos:16', 'Ondo:30'}"
      ]
     },
     "execution_count": 41,
     "metadata": {},
     "output_type": "execute_result"
    }
   ],
   "source": [
    "state={'Lagos:16', 'Abuja:18', 'Ondo:30'}\n",
    "state"
   ]
  },
  {
   "cell_type": "code",
   "execution_count": 42,
   "id": "0b022bde",
   "metadata": {},
   "outputs": [
    {
     "data": {
      "text/plain": [
       "{'Abuja:18', 'Lagos:16', 'Ondo:30'}"
      ]
     },
     "execution_count": 42,
     "metadata": {},
     "output_type": "execute_result"
    }
   ],
   "source": [
    "state"
   ]
  },
  {
   "cell_type": "code",
   "execution_count": 17,
   "id": "4d404c14",
   "metadata": {},
   "outputs": [
    {
     "data": {
      "text/plain": [
       "False"
      ]
     },
     "execution_count": 17,
     "metadata": {},
     "output_type": "execute_result"
    }
   ],
   "source": [
    "18==19"
   ]
  },
  {
   "cell_type": "code",
   "execution_count": 18,
   "id": "0d1750d4",
   "metadata": {},
   "outputs": [
    {
     "data": {
      "text/plain": [
       "True"
      ]
     },
     "execution_count": 18,
     "metadata": {},
     "output_type": "execute_result"
    }
   ],
   "source": [
    "19==19"
   ]
  },
  {
   "cell_type": "code",
   "execution_count": 27,
   "id": "fb70e99d",
   "metadata": {},
   "outputs": [
    {
     "data": {
      "text/plain": [
       "('Adams', 'Eze')"
      ]
     },
     "execution_count": 27,
     "metadata": {},
     "output_type": "execute_result"
    }
   ],
   "source": [
    "Name='Adams'\n",
    "Lastname= 'Eze'\n",
    "Name, Lastname"
   ]
  },
  {
   "cell_type": "code",
   "execution_count": 28,
   "id": "7230da55",
   "metadata": {},
   "outputs": [
    {
     "name": "stdout",
     "output_type": "stream",
     "text": [
      "AdamsEze\n"
     ]
    }
   ],
   "source": [
    "print(Name+Lastname)"
   ]
  },
  {
   "cell_type": "code",
   "execution_count": 31,
   "id": "f30d5697",
   "metadata": {},
   "outputs": [
    {
     "data": {
      "text/plain": [
       "{'adaeze', 'helen', 'vivian'}"
      ]
     },
     "execution_count": 31,
     "metadata": {},
     "output_type": "execute_result"
    }
   ],
   "source": [
    "tuple= {'adaeze','helen','vivian'}\n",
    "tuple"
   ]
  },
  {
   "cell_type": "code",
   "execution_count": 9,
   "id": "44a65d98",
   "metadata": {},
   "outputs": [],
   "source": [
    "People={'Dami':'Yaba', 'Dorcas':'Ibadan', 'Opeyemi':'Abeaokuta', 'Basil':'Kano','Emeka':'Imo'}\n"
   ]
  },
  {
   "cell_type": "code",
   "execution_count": 43,
   "id": "b346e96a",
   "metadata": {},
   "outputs": [
    {
     "data": {
      "text/plain": [
       "{'Abuja:18', 'Lagos:16', 'Ondo:30'}"
      ]
     },
     "execution_count": 43,
     "metadata": {},
     "output_type": "execute_result"
    }
   ],
   "source": [
    "state"
   ]
  },
  {
   "cell_type": "code",
   "execution_count": 10,
   "id": "d134a185",
   "metadata": {},
   "outputs": [
    {
     "data": {
      "text/plain": [
       "{'Dami': 'Yaba',\n",
       " 'Dorcas': 'Ibadan',\n",
       " 'Opeyemi': 'Abeaokuta',\n",
       " 'Basil': 'Kano',\n",
       " 'Emeka': 'Imo'}"
      ]
     },
     "execution_count": 10,
     "metadata": {},
     "output_type": "execute_result"
    }
   ],
   "source": [
    "People"
   ]
  },
  {
   "cell_type": "code",
   "execution_count": 11,
   "id": "0ea29b7c",
   "metadata": {},
   "outputs": [
    {
     "data": {
      "text/plain": [
       "'Yaba'"
      ]
     },
     "execution_count": 11,
     "metadata": {},
     "output_type": "execute_result"
    }
   ],
   "source": [
    "People['Dami']"
   ]
  },
  {
   "cell_type": "code",
   "execution_count": 16,
   "id": "f6d71a52",
   "metadata": {},
   "outputs": [
    {
     "data": {
      "text/plain": [
       "'Abeaokuta'"
      ]
     },
     "execution_count": 16,
     "metadata": {},
     "output_type": "execute_result"
    }
   ],
   "source": [
    "People['Opeyemi']"
   ]
  },
  {
   "cell_type": "code",
   "execution_count": null,
   "id": "dbaa993f",
   "metadata": {},
   "outputs": [],
   "source": []
  },
  {
   "cell_type": "code",
   "execution_count": null,
   "id": "fb3faea8",
   "metadata": {},
   "outputs": [],
   "source": []
  }
 ],
 "metadata": {
  "kernelspec": {
   "display_name": "Python 3 (ipykernel)",
   "language": "python",
   "name": "python3"
  },
  "language_info": {
   "codemirror_mode": {
    "name": "ipython",
    "version": 3
   },
   "file_extension": ".py",
   "mimetype": "text/x-python",
   "name": "python",
   "nbconvert_exporter": "python",
   "pygments_lexer": "ipython3",
   "version": "3.9.12"
  }
 },
 "nbformat": 4,
 "nbformat_minor": 5
}
